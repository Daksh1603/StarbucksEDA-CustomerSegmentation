{
 "cells": [
  {
   "cell_type": "markdown",
   "id": "114feaf7",
   "metadata": {},
   "source": [
    "# My approach\n",
    "\n",
    "1. The first and foremost step is to understand the problem statement entirely and make important deductions based on the statement .\n",
    "\n",
    "\n",
    "  + What are we trying to find out ? Engagement of different types of customers and effectivity of Starbucks offer Campaign.\n",
    "  + What are the important factors affecting the following ?\n",
    "  + In what areas to focus in order to achieve max output . \n",
    "  \n",
    "  \n",
    "2. Importing the required libraries .\n",
    "\n",
    "\n",
    "3. Loading the data .\n",
    "\n",
    "\n",
    " + The data consists of 3 parts . We call each part seperatly and assign 3 seperate dataframes to each .\n",
    " + For further analysis of these data and how they correlate with each other , we can merge them and then analyse them further however , I usually extend this part to EDA and not in Loading the Data because the data we have just received might not be perfect . It is not right to make dedcutions without clearing your assumptions on the data and without cleaning it .\n",
    "\n",
    "\n",
    "4. Data Wrangling / Cleaning\n",
    "\n",
    "\n",
    "  + This is always an important step . This step becomes ground for clearing any assumptions about the data through hypothesis testing .\n",
    "  + Further , cleaning and transforming the data further prerares it for EDA . \n",
    " \n",
    "   >  Do keep in mind that data transormation here doesn't refer to minmax scaling or normalization . Simply conversion of irregular attributes to derive more regular attributes ( for example : dict value from offer Data ) ."
   ]
  },
  {
   "cell_type": "markdown",
   "id": "30cb12dc",
   "metadata": {},
   "source": [
    " # Importing Libraries"
   ]
  },
  {
   "cell_type": "code",
   "execution_count": 1,
   "id": "b6e43796",
   "metadata": {},
   "outputs": [],
   "source": [
    "import numpy as np \n",
    "import pandas as pd\n",
    "import matplotlib.pyplot as plt\n",
    "import matplotlib.dates as mdates\n",
    "import seaborn as sns\n",
    "# plt.style.use('fivethirtyeight')\n",
    "# sns.set()\n",
    "\n",
    "from sklearn.preprocessing import StandardScaler\n",
    "from sklearn.cluster import KMeans\n",
    "from sklearn import metrics\n",
    "\n",
    "from sklearn.linear_model import LogisticRegression\n",
    "from sklearn.model_selection import train_test_split\n",
    "from sklearn.neighbors import KNeighborsClassifier\n",
    "# from sklearn.decomposition import PCA"
   ]
  },
  {
   "cell_type": "markdown",
   "id": "908ee5e7",
   "metadata": {},
   "source": [
    "# Loading Data"
   ]
  },
  {
   "cell_type": "code",
   "execution_count": 2,
   "id": "5133ea70",
   "metadata": {},
   "outputs": [],
   "source": [
    "customerData = pd.read_csv('profile.csv')\n",
    "offerData = pd.read_csv('portfolio.csv')\n",
    "offerTData = pd.read_csv('transcript.csv')"
   ]
  },
  {
   "cell_type": "markdown",
   "id": "01e9dc42",
   "metadata": {},
   "source": [
    "# Data Wrangling and Transformation"
   ]
  },
  {
   "cell_type": "markdown",
   "id": "4b103900",
   "metadata": {},
   "source": [
    "### Customer Data"
   ]
  },
  {
   "cell_type": "code",
   "execution_count": 3,
   "id": "c7ad4a52",
   "metadata": {},
   "outputs": [
    {
     "data": {
      "text/html": [
       "<div>\n",
       "<style scoped>\n",
       "    .dataframe tbody tr th:only-of-type {\n",
       "        vertical-align: middle;\n",
       "    }\n",
       "\n",
       "    .dataframe tbody tr th {\n",
       "        vertical-align: top;\n",
       "    }\n",
       "\n",
       "    .dataframe thead th {\n",
       "        text-align: right;\n",
       "    }\n",
       "</style>\n",
       "<table border=\"1\" class=\"dataframe\">\n",
       "  <thead>\n",
       "    <tr style=\"text-align: right;\">\n",
       "      <th></th>\n",
       "      <th>Unnamed: 0</th>\n",
       "      <th>gender</th>\n",
       "      <th>age</th>\n",
       "      <th>id</th>\n",
       "      <th>became_member_on</th>\n",
       "      <th>income</th>\n",
       "    </tr>\n",
       "  </thead>\n",
       "  <tbody>\n",
       "    <tr>\n",
       "      <th>0</th>\n",
       "      <td>0</td>\n",
       "      <td>NaN</td>\n",
       "      <td>118</td>\n",
       "      <td>68be06ca386d4c31939f3a4f0e3dd783</td>\n",
       "      <td>20170212</td>\n",
       "      <td>NaN</td>\n",
       "    </tr>\n",
       "    <tr>\n",
       "      <th>1</th>\n",
       "      <td>1</td>\n",
       "      <td>F</td>\n",
       "      <td>55</td>\n",
       "      <td>0610b486422d4921ae7d2bf64640c50b</td>\n",
       "      <td>20170715</td>\n",
       "      <td>112000.0</td>\n",
       "    </tr>\n",
       "    <tr>\n",
       "      <th>2</th>\n",
       "      <td>2</td>\n",
       "      <td>NaN</td>\n",
       "      <td>118</td>\n",
       "      <td>38fe809add3b4fcf9315a9694bb96ff5</td>\n",
       "      <td>20180712</td>\n",
       "      <td>NaN</td>\n",
       "    </tr>\n",
       "    <tr>\n",
       "      <th>3</th>\n",
       "      <td>3</td>\n",
       "      <td>F</td>\n",
       "      <td>75</td>\n",
       "      <td>78afa995795e4d85b5d9ceeca43f5fef</td>\n",
       "      <td>20170509</td>\n",
       "      <td>100000.0</td>\n",
       "    </tr>\n",
       "    <tr>\n",
       "      <th>4</th>\n",
       "      <td>4</td>\n",
       "      <td>NaN</td>\n",
       "      <td>118</td>\n",
       "      <td>a03223e636434f42ac4c3df47e8bac43</td>\n",
       "      <td>20170804</td>\n",
       "      <td>NaN</td>\n",
       "    </tr>\n",
       "  </tbody>\n",
       "</table>\n",
       "</div>"
      ],
      "text/plain": [
       "   Unnamed: 0 gender  age                                id  became_member_on  \\\n",
       "0           0    NaN  118  68be06ca386d4c31939f3a4f0e3dd783          20170212   \n",
       "1           1      F   55  0610b486422d4921ae7d2bf64640c50b          20170715   \n",
       "2           2    NaN  118  38fe809add3b4fcf9315a9694bb96ff5          20180712   \n",
       "3           3      F   75  78afa995795e4d85b5d9ceeca43f5fef          20170509   \n",
       "4           4    NaN  118  a03223e636434f42ac4c3df47e8bac43          20170804   \n",
       "\n",
       "     income  \n",
       "0       NaN  \n",
       "1  112000.0  \n",
       "2       NaN  \n",
       "3  100000.0  \n",
       "4       NaN  "
      ]
     },
     "execution_count": 3,
     "metadata": {},
     "output_type": "execute_result"
    }
   ],
   "source": [
    "customerData.head()"
   ]
  },
  {
   "cell_type": "code",
   "execution_count": 4,
   "id": "a62b6e89",
   "metadata": {},
   "outputs": [
    {
     "name": "stdout",
     "output_type": "stream",
     "text": [
      "<class 'pandas.core.frame.DataFrame'>\n",
      "RangeIndex: 17000 entries, 0 to 16999\n",
      "Data columns (total 6 columns):\n",
      " #   Column            Non-Null Count  Dtype  \n",
      "---  ------            --------------  -----  \n",
      " 0   Unnamed: 0        17000 non-null  int64  \n",
      " 1   gender            14825 non-null  object \n",
      " 2   age               17000 non-null  int64  \n",
      " 3   id                17000 non-null  object \n",
      " 4   became_member_on  17000 non-null  int64  \n",
      " 5   income            14825 non-null  float64\n",
      "dtypes: float64(1), int64(3), object(2)\n",
      "memory usage: 797.0+ KB\n"
     ]
    }
   ],
   "source": [
    "customerData.info()"
   ]
  },
  {
   "cell_type": "code",
   "execution_count": 5,
   "id": "befa970e",
   "metadata": {},
   "outputs": [],
   "source": [
    "customerData = customerData.drop('Unnamed: 0', axis=1)"
   ]
  },
  {
   "cell_type": "code",
   "execution_count": 6,
   "id": "9ddcab71",
   "metadata": {},
   "outputs": [
    {
     "data": {
      "text/plain": [
       "gender              2175\n",
       "age                    0\n",
       "id                     0\n",
       "became_member_on       0\n",
       "income              2175\n",
       "dtype: int64"
      ]
     },
     "execution_count": 6,
     "metadata": {},
     "output_type": "execute_result"
    }
   ],
   "source": [
    "customerData.isna().sum()"
   ]
  },
  {
   "cell_type": "code",
   "execution_count": 7,
   "id": "743583d3",
   "metadata": {},
   "outputs": [
    {
     "name": "stdout",
     "output_type": "stream",
     "text": [
      "2175\n",
      "2175\n"
     ]
    }
   ],
   "source": [
    "setofids = set()\n",
    "tempd = customerData.copy()\n",
    "tempd['income'] = tempd['income'].isna()\n",
    "tempd['remove'] = np.where((tempd.income==True) , 1, 0)\n",
    "print(tempd['remove'].sum())\n",
    "for i,c in tempd.iterrows():\n",
    "    if c['remove'] == 1:\n",
    "        setofids.add(c['id'])\n",
    "print(len(setofids))"
   ]
  },
  {
   "cell_type": "code",
   "execution_count": 8,
   "id": "0425265f",
   "metadata": {},
   "outputs": [],
   "source": [
    "offerTData = offerTData[~offerTData.person.isin(setofids)]"
   ]
  },
  {
   "cell_type": "code",
   "execution_count": 9,
   "id": "823bce04",
   "metadata": {},
   "outputs": [],
   "source": [
    "customerData = customerData[~customerData.id.isin(setofids)]"
   ]
  },
  {
   "cell_type": "code",
   "execution_count": 10,
   "id": "38894e29",
   "metadata": {},
   "outputs": [
    {
     "name": "stdout",
     "output_type": "stream",
     "text": [
      "True\n"
     ]
    }
   ],
   "source": [
    "cus_ids = list(customerData['id'])\n",
    "cus_ids.sort()\n",
    "off_ids = list(offerTData['person'].unique())\n",
    "off_ids.sort()\n",
    "print(cus_ids==off_ids)"
   ]
  },
  {
   "cell_type": "markdown",
   "id": "48eaea92",
   "metadata": {},
   "source": [
    "### Offer data"
   ]
  },
  {
   "cell_type": "code",
   "execution_count": 11,
   "id": "a463fc3f",
   "metadata": {},
   "outputs": [
    {
     "data": {
      "text/html": [
       "<div>\n",
       "<style scoped>\n",
       "    .dataframe tbody tr th:only-of-type {\n",
       "        vertical-align: middle;\n",
       "    }\n",
       "\n",
       "    .dataframe tbody tr th {\n",
       "        vertical-align: top;\n",
       "    }\n",
       "\n",
       "    .dataframe thead th {\n",
       "        text-align: right;\n",
       "    }\n",
       "</style>\n",
       "<table border=\"1\" class=\"dataframe\">\n",
       "  <thead>\n",
       "    <tr style=\"text-align: right;\">\n",
       "      <th></th>\n",
       "      <th>reward</th>\n",
       "      <th>channels</th>\n",
       "      <th>difficulty</th>\n",
       "      <th>duration</th>\n",
       "      <th>offer_type</th>\n",
       "      <th>id</th>\n",
       "    </tr>\n",
       "  </thead>\n",
       "  <tbody>\n",
       "    <tr>\n",
       "      <th>0</th>\n",
       "      <td>10</td>\n",
       "      <td>['email', 'mobile', 'social']</td>\n",
       "      <td>10</td>\n",
       "      <td>7</td>\n",
       "      <td>bogo</td>\n",
       "      <td>ae264e3637204a6fb9bb56bc8210ddfd</td>\n",
       "    </tr>\n",
       "    <tr>\n",
       "      <th>1</th>\n",
       "      <td>10</td>\n",
       "      <td>['web', 'email', 'mobile', 'social']</td>\n",
       "      <td>10</td>\n",
       "      <td>5</td>\n",
       "      <td>bogo</td>\n",
       "      <td>4d5c57ea9a6940dd891ad53e9dbe8da0</td>\n",
       "    </tr>\n",
       "    <tr>\n",
       "      <th>2</th>\n",
       "      <td>0</td>\n",
       "      <td>['web', 'email', 'mobile']</td>\n",
       "      <td>0</td>\n",
       "      <td>4</td>\n",
       "      <td>informational</td>\n",
       "      <td>3f207df678b143eea3cee63160fa8bed</td>\n",
       "    </tr>\n",
       "    <tr>\n",
       "      <th>3</th>\n",
       "      <td>5</td>\n",
       "      <td>['web', 'email', 'mobile']</td>\n",
       "      <td>5</td>\n",
       "      <td>7</td>\n",
       "      <td>bogo</td>\n",
       "      <td>9b98b8c7a33c4b65b9aebfe6a799e6d9</td>\n",
       "    </tr>\n",
       "    <tr>\n",
       "      <th>4</th>\n",
       "      <td>5</td>\n",
       "      <td>['web', 'email']</td>\n",
       "      <td>20</td>\n",
       "      <td>10</td>\n",
       "      <td>discount</td>\n",
       "      <td>0b1e1539f2cc45b7b9fa7c272da2e1d7</td>\n",
       "    </tr>\n",
       "  </tbody>\n",
       "</table>\n",
       "</div>"
      ],
      "text/plain": [
       "   reward                              channels  difficulty  duration  \\\n",
       "0      10         ['email', 'mobile', 'social']          10         7   \n",
       "1      10  ['web', 'email', 'mobile', 'social']          10         5   \n",
       "2       0            ['web', 'email', 'mobile']           0         4   \n",
       "3       5            ['web', 'email', 'mobile']           5         7   \n",
       "4       5                      ['web', 'email']          20        10   \n",
       "\n",
       "      offer_type                                id  \n",
       "0           bogo  ae264e3637204a6fb9bb56bc8210ddfd  \n",
       "1           bogo  4d5c57ea9a6940dd891ad53e9dbe8da0  \n",
       "2  informational  3f207df678b143eea3cee63160fa8bed  \n",
       "3           bogo  9b98b8c7a33c4b65b9aebfe6a799e6d9  \n",
       "4       discount  0b1e1539f2cc45b7b9fa7c272da2e1d7  "
      ]
     },
     "execution_count": 11,
     "metadata": {},
     "output_type": "execute_result"
    }
   ],
   "source": [
    "offerData = offerData.drop('Unnamed: 0', axis=1)\n",
    "offerData.head()"
   ]
  },
  {
   "cell_type": "code",
   "execution_count": 12,
   "id": "ea5f835b",
   "metadata": {},
   "outputs": [
    {
     "name": "stdout",
     "output_type": "stream",
     "text": [
      "<class 'pandas.core.frame.DataFrame'>\n",
      "RangeIndex: 10 entries, 0 to 9\n",
      "Data columns (total 6 columns):\n",
      " #   Column      Non-Null Count  Dtype \n",
      "---  ------      --------------  ----- \n",
      " 0   reward      10 non-null     int64 \n",
      " 1   channels    10 non-null     object\n",
      " 2   difficulty  10 non-null     int64 \n",
      " 3   duration    10 non-null     int64 \n",
      " 4   offer_type  10 non-null     object\n",
      " 5   id          10 non-null     object\n",
      "dtypes: int64(3), object(3)\n",
      "memory usage: 608.0+ bytes\n"
     ]
    }
   ],
   "source": [
    "offerData.info()"
   ]
  },
  {
   "cell_type": "code",
   "execution_count": 13,
   "id": "d929460e",
   "metadata": {},
   "outputs": [],
   "source": [
    "offerData = offerData.groupby(['offer_type','difficulty','duration','reward','channels','id']).count().sort_values(by=['offer_type','difficulty'])"
   ]
  },
  {
   "cell_type": "code",
   "execution_count": 14,
   "id": "e7cf74af",
   "metadata": {},
   "outputs": [],
   "source": [
    "# For simpler depiciton , id add an  index column for each offer \n",
    "offerData.reset_index(inplace=True,drop=False)"
   ]
  },
  {
   "cell_type": "code",
   "execution_count": 15,
   "id": "8fd3d20a",
   "metadata": {
    "scrolled": true
   },
   "outputs": [
    {
     "data": {
      "text/html": [
       "<div>\n",
       "<style scoped>\n",
       "    .dataframe tbody tr th:only-of-type {\n",
       "        vertical-align: middle;\n",
       "    }\n",
       "\n",
       "    .dataframe tbody tr th {\n",
       "        vertical-align: top;\n",
       "    }\n",
       "\n",
       "    .dataframe thead th {\n",
       "        text-align: right;\n",
       "    }\n",
       "</style>\n",
       "<table border=\"1\" class=\"dataframe\">\n",
       "  <thead>\n",
       "    <tr style=\"text-align: right;\">\n",
       "      <th></th>\n",
       "      <th>offer_type</th>\n",
       "      <th>difficulty</th>\n",
       "      <th>duration</th>\n",
       "      <th>reward</th>\n",
       "      <th>channels</th>\n",
       "      <th>id</th>\n",
       "    </tr>\n",
       "  </thead>\n",
       "  <tbody>\n",
       "    <tr>\n",
       "      <th>0</th>\n",
       "      <td>bogo</td>\n",
       "      <td>5</td>\n",
       "      <td>5</td>\n",
       "      <td>5</td>\n",
       "      <td>['web', 'email', 'mobile', 'social']</td>\n",
       "      <td>f19421c1d4aa40978ebb69ca19b0e20d</td>\n",
       "    </tr>\n",
       "    <tr>\n",
       "      <th>1</th>\n",
       "      <td>bogo</td>\n",
       "      <td>5</td>\n",
       "      <td>7</td>\n",
       "      <td>5</td>\n",
       "      <td>['web', 'email', 'mobile']</td>\n",
       "      <td>9b98b8c7a33c4b65b9aebfe6a799e6d9</td>\n",
       "    </tr>\n",
       "    <tr>\n",
       "      <th>2</th>\n",
       "      <td>bogo</td>\n",
       "      <td>10</td>\n",
       "      <td>5</td>\n",
       "      <td>10</td>\n",
       "      <td>['web', 'email', 'mobile', 'social']</td>\n",
       "      <td>4d5c57ea9a6940dd891ad53e9dbe8da0</td>\n",
       "    </tr>\n",
       "    <tr>\n",
       "      <th>3</th>\n",
       "      <td>bogo</td>\n",
       "      <td>10</td>\n",
       "      <td>7</td>\n",
       "      <td>10</td>\n",
       "      <td>['email', 'mobile', 'social']</td>\n",
       "      <td>ae264e3637204a6fb9bb56bc8210ddfd</td>\n",
       "    </tr>\n",
       "    <tr>\n",
       "      <th>4</th>\n",
       "      <td>discount</td>\n",
       "      <td>7</td>\n",
       "      <td>7</td>\n",
       "      <td>3</td>\n",
       "      <td>['web', 'email', 'mobile', 'social']</td>\n",
       "      <td>2298d6c36e964ae4a3e7e9706d1fb8c2</td>\n",
       "    </tr>\n",
       "    <tr>\n",
       "      <th>5</th>\n",
       "      <td>discount</td>\n",
       "      <td>10</td>\n",
       "      <td>7</td>\n",
       "      <td>2</td>\n",
       "      <td>['web', 'email', 'mobile']</td>\n",
       "      <td>2906b810c7d4411798c6938adc9daaa5</td>\n",
       "    </tr>\n",
       "    <tr>\n",
       "      <th>6</th>\n",
       "      <td>discount</td>\n",
       "      <td>10</td>\n",
       "      <td>10</td>\n",
       "      <td>2</td>\n",
       "      <td>['web', 'email', 'mobile', 'social']</td>\n",
       "      <td>fafdcd668e3743c1bb461111dcafc2a4</td>\n",
       "    </tr>\n",
       "    <tr>\n",
       "      <th>7</th>\n",
       "      <td>discount</td>\n",
       "      <td>20</td>\n",
       "      <td>10</td>\n",
       "      <td>5</td>\n",
       "      <td>['web', 'email']</td>\n",
       "      <td>0b1e1539f2cc45b7b9fa7c272da2e1d7</td>\n",
       "    </tr>\n",
       "    <tr>\n",
       "      <th>8</th>\n",
       "      <td>informational</td>\n",
       "      <td>0</td>\n",
       "      <td>3</td>\n",
       "      <td>0</td>\n",
       "      <td>['email', 'mobile', 'social']</td>\n",
       "      <td>5a8bc65990b245e5a138643cd4eb9837</td>\n",
       "    </tr>\n",
       "    <tr>\n",
       "      <th>9</th>\n",
       "      <td>informational</td>\n",
       "      <td>0</td>\n",
       "      <td>4</td>\n",
       "      <td>0</td>\n",
       "      <td>['web', 'email', 'mobile']</td>\n",
       "      <td>3f207df678b143eea3cee63160fa8bed</td>\n",
       "    </tr>\n",
       "  </tbody>\n",
       "</table>\n",
       "</div>"
      ],
      "text/plain": [
       "      offer_type  difficulty  duration  reward  \\\n",
       "0           bogo           5         5       5   \n",
       "1           bogo           5         7       5   \n",
       "2           bogo          10         5      10   \n",
       "3           bogo          10         7      10   \n",
       "4       discount           7         7       3   \n",
       "5       discount          10         7       2   \n",
       "6       discount          10        10       2   \n",
       "7       discount          20        10       5   \n",
       "8  informational           0         3       0   \n",
       "9  informational           0         4       0   \n",
       "\n",
       "                               channels                                id  \n",
       "0  ['web', 'email', 'mobile', 'social']  f19421c1d4aa40978ebb69ca19b0e20d  \n",
       "1            ['web', 'email', 'mobile']  9b98b8c7a33c4b65b9aebfe6a799e6d9  \n",
       "2  ['web', 'email', 'mobile', 'social']  4d5c57ea9a6940dd891ad53e9dbe8da0  \n",
       "3         ['email', 'mobile', 'social']  ae264e3637204a6fb9bb56bc8210ddfd  \n",
       "4  ['web', 'email', 'mobile', 'social']  2298d6c36e964ae4a3e7e9706d1fb8c2  \n",
       "5            ['web', 'email', 'mobile']  2906b810c7d4411798c6938adc9daaa5  \n",
       "6  ['web', 'email', 'mobile', 'social']  fafdcd668e3743c1bb461111dcafc2a4  \n",
       "7                      ['web', 'email']  0b1e1539f2cc45b7b9fa7c272da2e1d7  \n",
       "8         ['email', 'mobile', 'social']  5a8bc65990b245e5a138643cd4eb9837  \n",
       "9            ['web', 'email', 'mobile']  3f207df678b143eea3cee63160fa8bed  "
      ]
     },
     "execution_count": 15,
     "metadata": {},
     "output_type": "execute_result"
    }
   ],
   "source": [
    "offerData"
   ]
  },
  {
   "cell_type": "markdown",
   "id": "64b118b3",
   "metadata": {},
   "source": [
    "### Transcript Data"
   ]
  },
  {
   "cell_type": "code",
   "execution_count": 16,
   "id": "f3a2f669",
   "metadata": {},
   "outputs": [
    {
     "data": {
      "text/html": [
       "<div>\n",
       "<style scoped>\n",
       "    .dataframe tbody tr th:only-of-type {\n",
       "        vertical-align: middle;\n",
       "    }\n",
       "\n",
       "    .dataframe tbody tr th {\n",
       "        vertical-align: top;\n",
       "    }\n",
       "\n",
       "    .dataframe thead th {\n",
       "        text-align: right;\n",
       "    }\n",
       "</style>\n",
       "<table border=\"1\" class=\"dataframe\">\n",
       "  <thead>\n",
       "    <tr style=\"text-align: right;\">\n",
       "      <th></th>\n",
       "      <th>person</th>\n",
       "      <th>event</th>\n",
       "      <th>value</th>\n",
       "      <th>time</th>\n",
       "    </tr>\n",
       "  </thead>\n",
       "  <tbody>\n",
       "    <tr>\n",
       "      <th>0</th>\n",
       "      <td>78afa995795e4d85b5d9ceeca43f5fef</td>\n",
       "      <td>offer received</td>\n",
       "      <td>{'offer id': '9b98b8c7a33c4b65b9aebfe6a799e6d9'}</td>\n",
       "      <td>0</td>\n",
       "    </tr>\n",
       "    <tr>\n",
       "      <th>1</th>\n",
       "      <td>e2127556f4f64592b11af22de27a7932</td>\n",
       "      <td>offer received</td>\n",
       "      <td>{'offer id': '2906b810c7d4411798c6938adc9daaa5'}</td>\n",
       "      <td>0</td>\n",
       "    </tr>\n",
       "    <tr>\n",
       "      <th>2</th>\n",
       "      <td>389bc3fa690240e798340f5a15918d5c</td>\n",
       "      <td>offer received</td>\n",
       "      <td>{'offer id': 'f19421c1d4aa40978ebb69ca19b0e20d'}</td>\n",
       "      <td>0</td>\n",
       "    </tr>\n",
       "    <tr>\n",
       "      <th>3</th>\n",
       "      <td>2eeac8d8feae4a8cad5a6af0499a211d</td>\n",
       "      <td>offer received</td>\n",
       "      <td>{'offer id': '3f207df678b143eea3cee63160fa8bed'}</td>\n",
       "      <td>0</td>\n",
       "    </tr>\n",
       "    <tr>\n",
       "      <th>4</th>\n",
       "      <td>aa4862eba776480b8bb9c68455b8c2e1</td>\n",
       "      <td>offer received</td>\n",
       "      <td>{'offer id': '0b1e1539f2cc45b7b9fa7c272da2e1d7'}</td>\n",
       "      <td>0</td>\n",
       "    </tr>\n",
       "  </tbody>\n",
       "</table>\n",
       "</div>"
      ],
      "text/plain": [
       "                             person           event  \\\n",
       "0  78afa995795e4d85b5d9ceeca43f5fef  offer received   \n",
       "1  e2127556f4f64592b11af22de27a7932  offer received   \n",
       "2  389bc3fa690240e798340f5a15918d5c  offer received   \n",
       "3  2eeac8d8feae4a8cad5a6af0499a211d  offer received   \n",
       "4  aa4862eba776480b8bb9c68455b8c2e1  offer received   \n",
       "\n",
       "                                              value  time  \n",
       "0  {'offer id': '9b98b8c7a33c4b65b9aebfe6a799e6d9'}     0  \n",
       "1  {'offer id': '2906b810c7d4411798c6938adc9daaa5'}     0  \n",
       "2  {'offer id': 'f19421c1d4aa40978ebb69ca19b0e20d'}     0  \n",
       "3  {'offer id': '3f207df678b143eea3cee63160fa8bed'}     0  \n",
       "4  {'offer id': '0b1e1539f2cc45b7b9fa7c272da2e1d7'}     0  "
      ]
     },
     "execution_count": 16,
     "metadata": {},
     "output_type": "execute_result"
    }
   ],
   "source": [
    "offerTData = offerTData.drop('Unnamed: 0', axis=1)\n",
    "offerTData.reset_index(inplace=True,drop=True)\n",
    "offerTData.head()"
   ]
  },
  {
   "cell_type": "code",
   "execution_count": 17,
   "id": "b7d26bb0",
   "metadata": {
    "scrolled": true
   },
   "outputs": [
    {
     "name": "stdout",
     "output_type": "stream",
     "text": [
      "<class 'pandas.core.frame.DataFrame'>\n",
      "RangeIndex: 272762 entries, 0 to 272761\n",
      "Data columns (total 4 columns):\n",
      " #   Column  Non-Null Count   Dtype \n",
      "---  ------  --------------   ----- \n",
      " 0   person  272762 non-null  object\n",
      " 1   event   272762 non-null  object\n",
      " 2   value   272762 non-null  object\n",
      " 3   time    272762 non-null  int64 \n",
      "dtypes: int64(1), object(3)\n",
      "memory usage: 8.3+ MB\n"
     ]
    }
   ],
   "source": [
    "offerTData.info()"
   ]
  },
  {
   "cell_type": "code",
   "execution_count": 18,
   "id": "19e38b3e",
   "metadata": {},
   "outputs": [],
   "source": [
    "def hypothTesting(coln):\n",
    "    of_v = offerTData[offerTData['event']==coln]\n",
    "    tranDict = of_v['value']\n",
    "    tranDict = tranDict.apply(eval)\n",
    "    set1 = set()\n",
    "    set2 = set()\n",
    "    for _ in tranDict:\n",
    "        set1.add(len(_))\n",
    "        set2.add(next(iter(_)))\n",
    "    print(\"First example : \"+str(next(iter(tranDict)))) # add format from customer segmentation\n",
    "    print(\"No. of elements in dict. : \"+str(set1))\n",
    "    print(\"First element of dict. : \"+str(set2))"
   ]
  },
  {
   "cell_type": "code",
   "execution_count": 19,
   "id": "cf70292a",
   "metadata": {
    "scrolled": true
   },
   "outputs": [
    {
     "data": {
      "text/plain": [
       "transaction        123957\n",
       "offer received      66501\n",
       "offer viewed        49860\n",
       "offer completed     32444\n",
       "Name: event, dtype: int64"
      ]
     },
     "execution_count": 19,
     "metadata": {},
     "output_type": "execute_result"
    }
   ],
   "source": [
    "offerTData['event'].value_counts()"
   ]
  },
  {
   "cell_type": "code",
   "execution_count": 20,
   "id": "361e7187",
   "metadata": {
    "scrolled": true
   },
   "outputs": [
    {
     "name": "stdout",
     "output_type": "stream",
     "text": [
      "First example : {'amount': 0.8300000000000001}\n",
      "No. of elements in dict. : {1}\n",
      "First element of dict. : {'amount'}\n"
     ]
    }
   ],
   "source": [
    "hypothTesting('transaction')"
   ]
  },
  {
   "cell_type": "code",
   "execution_count": 21,
   "id": "807d0329",
   "metadata": {},
   "outputs": [
    {
     "name": "stdout",
     "output_type": "stream",
     "text": [
      "First example : {'offer id': '9b98b8c7a33c4b65b9aebfe6a799e6d9'}\n",
      "No. of elements in dict. : {1}\n",
      "First element of dict. : {'offer id'}\n"
     ]
    }
   ],
   "source": [
    "hypothTesting('offer received')"
   ]
  },
  {
   "cell_type": "code",
   "execution_count": 22,
   "id": "b56f7582",
   "metadata": {},
   "outputs": [
    {
     "name": "stdout",
     "output_type": "stream",
     "text": [
      "First example : {'offer id': 'f19421c1d4aa40978ebb69ca19b0e20d'}\n",
      "No. of elements in dict. : {1}\n",
      "First element of dict. : {'offer id'}\n"
     ]
    }
   ],
   "source": [
    "hypothTesting('offer viewed')"
   ]
  },
  {
   "cell_type": "code",
   "execution_count": 23,
   "id": "496f61c4",
   "metadata": {},
   "outputs": [
    {
     "name": "stdout",
     "output_type": "stream",
     "text": [
      "First example : {'offer_id': '2906b810c7d4411798c6938adc9daaa5', 'reward': 2}\n",
      "No. of elements in dict. : {2}\n",
      "First element of dict. : {'offer_id'}\n"
     ]
    }
   ],
   "source": [
    "hypothTesting('offer completed')"
   ]
  },
  {
   "cell_type": "code",
   "execution_count": 24,
   "id": "939c1a32",
   "metadata": {},
   "outputs": [],
   "source": [
    "# Adding reward,offer_id,amount column to the offer dataset\n",
    "\n",
    "tranDict = offerTData['value']\n",
    "tranDict = tranDict.apply(eval)\n",
    "\n",
    "offerTData['reward'] = 0\n",
    "offerTData['offer id'] = 0\n",
    "offerTData['amount'] = 0\n",
    "offerTData.reset_index(inplace=True,drop=True)\n",
    "\n",
    "for i,c in offerTData.iterrows():\n",
    "    if c['event'] == 'transaction':\n",
    "        offerTData.loc[i,'amount'] = tranDict[i]['amount']\n",
    "    elif c['event'] == 'offer completed':\n",
    "        offerTData.loc[i,'offer id'] = tranDict[i]['offer_id']\n",
    "        offerTData.loc[i,'reward'] = tranDict[i]['reward']\n",
    "    else:\n",
    "        offerTData.loc[i,'offer id'] = tranDict[i]['offer id']"
   ]
  },
  {
   "cell_type": "code",
   "execution_count": 25,
   "id": "758a4272",
   "metadata": {},
   "outputs": [
    {
     "data": {
      "text/html": [
       "<div>\n",
       "<style scoped>\n",
       "    .dataframe tbody tr th:only-of-type {\n",
       "        vertical-align: middle;\n",
       "    }\n",
       "\n",
       "    .dataframe tbody tr th {\n",
       "        vertical-align: top;\n",
       "    }\n",
       "\n",
       "    .dataframe thead th {\n",
       "        text-align: right;\n",
       "    }\n",
       "</style>\n",
       "<table border=\"1\" class=\"dataframe\">\n",
       "  <thead>\n",
       "    <tr style=\"text-align: right;\">\n",
       "      <th></th>\n",
       "      <th>person</th>\n",
       "      <th>event</th>\n",
       "      <th>time</th>\n",
       "      <th>reward</th>\n",
       "      <th>offer id</th>\n",
       "      <th>amount</th>\n",
       "    </tr>\n",
       "  </thead>\n",
       "  <tbody>\n",
       "    <tr>\n",
       "      <th>0</th>\n",
       "      <td>78afa995795e4d85b5d9ceeca43f5fef</td>\n",
       "      <td>offer received</td>\n",
       "      <td>0</td>\n",
       "      <td>0</td>\n",
       "      <td>9b98b8c7a33c4b65b9aebfe6a799e6d9</td>\n",
       "      <td>0.0</td>\n",
       "    </tr>\n",
       "    <tr>\n",
       "      <th>1</th>\n",
       "      <td>e2127556f4f64592b11af22de27a7932</td>\n",
       "      <td>offer received</td>\n",
       "      <td>0</td>\n",
       "      <td>0</td>\n",
       "      <td>2906b810c7d4411798c6938adc9daaa5</td>\n",
       "      <td>0.0</td>\n",
       "    </tr>\n",
       "    <tr>\n",
       "      <th>2</th>\n",
       "      <td>389bc3fa690240e798340f5a15918d5c</td>\n",
       "      <td>offer received</td>\n",
       "      <td>0</td>\n",
       "      <td>0</td>\n",
       "      <td>f19421c1d4aa40978ebb69ca19b0e20d</td>\n",
       "      <td>0.0</td>\n",
       "    </tr>\n",
       "    <tr>\n",
       "      <th>3</th>\n",
       "      <td>2eeac8d8feae4a8cad5a6af0499a211d</td>\n",
       "      <td>offer received</td>\n",
       "      <td>0</td>\n",
       "      <td>0</td>\n",
       "      <td>3f207df678b143eea3cee63160fa8bed</td>\n",
       "      <td>0.0</td>\n",
       "    </tr>\n",
       "    <tr>\n",
       "      <th>4</th>\n",
       "      <td>aa4862eba776480b8bb9c68455b8c2e1</td>\n",
       "      <td>offer received</td>\n",
       "      <td>0</td>\n",
       "      <td>0</td>\n",
       "      <td>0b1e1539f2cc45b7b9fa7c272da2e1d7</td>\n",
       "      <td>0.0</td>\n",
       "    </tr>\n",
       "  </tbody>\n",
       "</table>\n",
       "</div>"
      ],
      "text/plain": [
       "                             person           event  time  reward  \\\n",
       "0  78afa995795e4d85b5d9ceeca43f5fef  offer received     0       0   \n",
       "1  e2127556f4f64592b11af22de27a7932  offer received     0       0   \n",
       "2  389bc3fa690240e798340f5a15918d5c  offer received     0       0   \n",
       "3  2eeac8d8feae4a8cad5a6af0499a211d  offer received     0       0   \n",
       "4  aa4862eba776480b8bb9c68455b8c2e1  offer received     0       0   \n",
       "\n",
       "                           offer id  amount  \n",
       "0  9b98b8c7a33c4b65b9aebfe6a799e6d9     0.0  \n",
       "1  2906b810c7d4411798c6938adc9daaa5     0.0  \n",
       "2  f19421c1d4aa40978ebb69ca19b0e20d     0.0  \n",
       "3  3f207df678b143eea3cee63160fa8bed     0.0  \n",
       "4  0b1e1539f2cc45b7b9fa7c272da2e1d7     0.0  "
      ]
     },
     "execution_count": 25,
     "metadata": {},
     "output_type": "execute_result"
    }
   ],
   "source": [
    "offerTData.drop('value',axis=1,inplace=True)\n",
    "offerTData.head()"
   ]
  },
  {
   "cell_type": "code",
   "execution_count": 26,
   "id": "ecf6415b",
   "metadata": {},
   "outputs": [],
   "source": [
    "offerTData = offerTData.sort_values(by=['person'])\n",
    "customerData = customerData.sort_values(by=['id'])"
   ]
  },
  {
   "cell_type": "markdown",
   "id": "2a7c6962",
   "metadata": {},
   "source": [
    "# Data Engineering"
   ]
  },
  {
   "cell_type": "markdown",
   "id": "38724b8d",
   "metadata": {},
   "source": [
    "## Transcript dataset"
   ]
  },
  {
   "cell_type": "code",
   "execution_count": 27,
   "id": "53f6be3f",
   "metadata": {},
   "outputs": [],
   "source": [
    "offerTData = offerTData.assign(daysSinceStart = offerTData['time']/24).astype({'daysSinceStart': 'int64'})\n",
    "offerTData = offerTData.assign(dayQuarter = offerTData['time']%24).astype({'dayQuarter': 'int64'})\n",
    "offerTData = offerTData.assign(dayQuarter = offerTData['dayQuarter']/6).astype({'dayQuarter': 'str'})"
   ]
  },
  {
   "cell_type": "code",
   "execution_count": 28,
   "id": "253660b3",
   "metadata": {},
   "outputs": [],
   "source": [
    "#offerTData = pd.get_dummies(offerTData, columns = ['dayQuarter'])"
   ]
  },
  {
   "cell_type": "code",
   "execution_count": 29,
   "id": "4c1246d8",
   "metadata": {},
   "outputs": [
    {
     "name": "stdout",
     "output_type": "stream",
     "text": [
      "<class 'pandas.core.frame.DataFrame'>\n",
      "Int64Index: 272762 entries, 229997 to 28956\n",
      "Data columns (total 8 columns):\n",
      " #   Column          Non-Null Count   Dtype  \n",
      "---  ------          --------------   -----  \n",
      " 0   person          272762 non-null  object \n",
      " 1   event           272762 non-null  object \n",
      " 2   time            272762 non-null  int64  \n",
      " 3   reward          272762 non-null  int64  \n",
      " 4   offer id        272762 non-null  object \n",
      " 5   amount          272762 non-null  float64\n",
      " 6   daysSinceStart  272762 non-null  int64  \n",
      " 7   dayQuarter      272762 non-null  object \n",
      "dtypes: float64(1), int64(3), object(4)\n",
      "memory usage: 18.7+ MB\n"
     ]
    }
   ],
   "source": [
    "offerTData.info()"
   ]
  },
  {
   "cell_type": "code",
   "execution_count": 30,
   "id": "6650ff65",
   "metadata": {},
   "outputs": [
    {
     "name": "stdout",
     "output_type": "stream",
     "text": [
      "<class 'pandas.core.frame.DataFrame'>\n",
      "Int64Index: 272762 entries, 229997 to 28956\n",
      "Data columns (total 8 columns):\n",
      " #   Column          Non-Null Count   Dtype  \n",
      "---  ------          --------------   -----  \n",
      " 0   person          272762 non-null  object \n",
      " 1   event           272762 non-null  object \n",
      " 2   time            272762 non-null  int64  \n",
      " 3   reward          272762 non-null  int64  \n",
      " 4   offer id        272762 non-null  object \n",
      " 5   amount          272762 non-null  float64\n",
      " 6   daysSinceStart  272762 non-null  int64  \n",
      " 7   dayQuarter      272762 non-null  object \n",
      "dtypes: float64(1), int64(3), object(4)\n",
      "memory usage: 18.7+ MB\n"
     ]
    }
   ],
   "source": [
    "offerTData.info()"
   ]
  },
  {
   "cell_type": "code",
   "execution_count": 31,
   "id": "56148eec",
   "metadata": {},
   "outputs": [
    {
     "data": {
      "text/plain": [
       "0.0    124216\n",
       "1.0     52125\n",
       "2.0     49342\n",
       "3.0     47079\n",
       "Name: dayQuarter, dtype: int64"
      ]
     },
     "execution_count": 31,
     "metadata": {},
     "output_type": "execute_result"
    }
   ],
   "source": [
    "offerTData['dayQuarter'].value_counts()"
   ]
  },
  {
   "cell_type": "markdown",
   "id": "8acd02ab",
   "metadata": {},
   "source": [
    "## Customer dataset"
   ]
  },
  {
   "cell_type": "markdown",
   "id": "df068340",
   "metadata": {},
   "source": [
    "#### Order of viewing"
   ]
  },
  {
   "cell_type": "code",
   "execution_count": 32,
   "id": "975af56b",
   "metadata": {},
   "outputs": [],
   "source": [
    "tempd = offerTData.copy()[['person','time','offer id']][offerTData['event']=='offer viewed'].sort_values(by=['person','time'])\n",
    "tempd.reset_index(inplace=True,drop=False)"
   ]
  },
  {
   "cell_type": "code",
   "execution_count": null,
   "id": "391a711e",
   "metadata": {},
   "outputs": [],
   "source": [
    "customerData['orderOfView'] = None\n",
    "\n",
    "for i,c in tempd.iterrows():\n",
    "    t = customerData.index[customerData['id'] == c['person']].tolist()\n",
    "    t1 = t[0]\n",
    "    if(customerData.loc[t1,'orderOfView'] == None):\n",
    "        customerData.loc[t1,'orderOfView'] = c['offer id']\n",
    "    else:\n",
    "        customerData.loc[t1,'orderOfView'] = customerData.loc[t1,'orderOfView'] + c['offer id']"
   ]
  },
  {
   "cell_type": "code",
   "execution_count": null,
   "id": "2a03b1ce",
   "metadata": {},
   "outputs": [],
   "source": [
    "customerData.isna().sum()  # no. of users who didnt view any offer"
   ]
  },
  {
   "cell_type": "code",
   "execution_count": null,
   "id": "bdc80a29",
   "metadata": {},
   "outputs": [],
   "source": [
    "customerData.fillna(0)"
   ]
  },
  {
   "cell_type": "markdown",
   "id": "0d9607d3",
   "metadata": {},
   "source": [
    "#### Most Completed Offer Categorised"
   ]
  },
  {
   "cell_type": "code",
   "execution_count": null,
   "id": "30be0a17",
   "metadata": {},
   "outputs": [],
   "source": [
    "# most completed offer\n",
    "\n",
    "customerData = customerData.sort_values(by=['id'])\n",
    "customerData.reset_index(inplace=True,drop=True)\n",
    "\n",
    "customerData['of0c'] = 0\n",
    "customerData['of1c'] = 0\n",
    "customerData['of2c'] = 0\n",
    "customerData['of3c'] = 0\n",
    "customerData['of4c'] = 0\n",
    "customerData['of5c'] = 0\n",
    "customerData['of6c'] = 0\n",
    "customerData['of7c'] = 0\n",
    "customerData['of8c'] = 0\n",
    "customerData['of9c'] = 0\n",
    "\n",
    "tempd = offerTData.copy()[offerTData['event']=='offer completed']\n",
    "tempd = tempd.sort_values(by=['person','offer id'])\n",
    "tempd.reset_index(inplace=True,drop=False)\n",
    "\n",
    "for i,c in tempd.iterrows():\n",
    "    t = customerData.index[customerData['id'] == c['person']].tolist()\n",
    "    t1 = t[0]\n",
    "    if(c['offer id']=='0b1e1539f2cc45b7b9fa7c272da2e1d7'):\n",
    "        customerData.loc[t1,'of0c'] = customerData.loc[t1,'of0c'] + 1\n",
    "    elif(c['offer id']=='2298d6c36e964ae4a3e7e9706d1fb8c2'):\n",
    "        customerData.loc[t1,'of1c'] = customerData.loc[t1,'of1c'] + 1\n",
    "    elif(c['offer id']=='2906b810c7d4411798c6938adc9daaa5'):\n",
    "        customerData.loc[t1,'of2c'] = customerData.loc[t1,'of2c'] + 1\n",
    "    elif(c['offer id']=='3f207df678b143eea3cee63160fa8bed'):\n",
    "        customerData.loc[t1,'of3c'] = customerData.loc[t1,'of3c'] + 1\n",
    "    elif(c['offer id']=='4d5c57ea9a6940dd891ad53e9dbe8da0'):\n",
    "        customerData.loc[t1,'of4c'] = customerData.loc[t1,'of4c'] + 1\n",
    "    elif(c['offer id']=='5a8bc65990b245e5a138643cd4eb9837'):\n",
    "        customerData.loc[t1,'of5c'] = customerData.loc[t1,'of5c'] + 1\n",
    "    elif(c['offer id']=='9b98b8c7a33c4b65b9aebfe6a799e6d9'):\n",
    "        customerData.loc[t1,'of6c'] = customerData.loc[t1,'of6c'] + 1\n",
    "    elif(c['offer id']=='ae264e3637204a6fb9bb56bc8210ddfd'):\n",
    "        customerData.loc[t1,'of7c'] = customerData.loc[t1,'of7c'] + 1\n",
    "    elif(c['offer id']=='f19421c1d4aa40978ebb69ca19b0e20d'):\n",
    "        customerData.loc[t1,'of8c'] = customerData.loc[t1,'of8c'] + 1\n",
    "    elif(c['offer id']=='fafdcd668e3743c1bb461111dcafc2a4'):\n",
    "        customerData.loc[t1,'of9c'] = customerData.loc[t1,'of9c'] + 1\n",
    "    else:\n",
    "        print('wtf')\n",
    "        break   "
   ]
  },
  {
   "cell_type": "markdown",
   "id": "6448f57b",
   "metadata": {},
   "source": [
    "#### Most Accessed Quarter"
   ]
  },
  {
   "cell_type": "code",
   "execution_count": null,
   "id": "f7c5db99",
   "metadata": {},
   "outputs": [],
   "source": [
    "# most accessed quarter\n",
    "\n",
    "customerData = customerData.sort_values(by=['id'])\n",
    "customerData.reset_index(inplace=True,drop=True)\n",
    "\n",
    "customerData['MAQ0'] = 0\n",
    "customerData['MAQ1'] = 0\n",
    "customerData['MAQ2'] = 0\n",
    "customerData['MAQ3'] = 0\n",
    "\n",
    "tempd = offerTData.copy()[offerTData['event']=='offer viewed']\n",
    "tempd = tempd.sort_values(by=['person','offer id'])\n",
    "\n",
    "tempd.reset_index(inplace=True,drop=False)\n",
    "tempd.info()\n",
    "for i,c in tempd.iterrows():\n",
    "    t = customerData.index[customerData['id'] == c['person']].tolist()\n",
    "    t1 = t[0]\n",
    "    if(c['dayQuarter']=='0.0'):\n",
    "        customerData.loc[t1,'MAQ0'] = customerData.loc[t1,'MAQ0'] + 1\n",
    "    elif(c['dayQuarter']=='1.0'):\n",
    "        customerData.loc[t1,'MAQ1'] = customerData.loc[t1,'MAQ1'] + 1\n",
    "    elif(c['dayQuarter']=='2.0'):\n",
    "        customerData.loc[t1,'MAQ2'] = customerData.loc[t1,'MAQ2'] + 1\n",
    "    elif(c['dayQuarter']=='3.0'):\n",
    "        customerData.loc[t1,'MAQ3'] = customerData.loc[t1,'MAQ3'] + 1"
   ]
  },
  {
   "cell_type": "code",
   "execution_count": null,
   "id": "6e6c8f20",
   "metadata": {},
   "outputs": [],
   "source": [
    "customerData['MAQ'] = np.where((customerData.MAQ0 > customerData.MAQ1),np.where((customerData.MAQ0 > customerData.MAQ2),np.where((customerData.MAQ0 > customerData.MAQ3),\"0\",\"3\") , np.where((customerData.MAQ2 > customerData.MAQ3),\"2\",\"3\")),np.where((customerData.MAQ1 > customerData.MAQ2),np.where((customerData.MAQ1 > customerData.MAQ3),\"1\",\"3\") , np.where((customerData.MAQ2 > customerData.MAQ3),\"2\",\"3\")) )"
   ]
  },
  {
   "cell_type": "code",
   "execution_count": null,
   "id": "cddec5ad",
   "metadata": {},
   "outputs": [],
   "source": [
    "customerData['MAQ'].value_counts()  "
   ]
  },
  {
   "cell_type": "code",
   "execution_count": null,
   "id": "3e5cfe22",
   "metadata": {},
   "outputs": [],
   "source": [
    "customerData = customerData.drop(['MAQ0','MAQ1','MAQ2','MAQ3'],axis=1)"
   ]
  },
  {
   "cell_type": "markdown",
   "id": "734009cf",
   "metadata": {},
   "source": [
    "#### Memebership Date broken down"
   ]
  },
  {
   "cell_type": "code",
   "execution_count": null,
   "id": "51a545aa",
   "metadata": {},
   "outputs": [],
   "source": [
    "customerData['became_member_on'][0]"
   ]
  },
  {
   "cell_type": "code",
   "execution_count": null,
   "id": "304909ca",
   "metadata": {},
   "outputs": [],
   "source": [
    "customerData[\"became_member_on\"] = pd.to_datetime(customerData[\"became_member_on\"],format=\"%Y%m%d\")"
   ]
  },
  {
   "cell_type": "code",
   "execution_count": null,
   "id": "c8942889",
   "metadata": {},
   "outputs": [],
   "source": [
    "# Member on\n",
    "customerData = customerData.assign(year = customerData.became_member_on.dt.year,\n",
    "                             month = customerData.became_member_on.dt.month,\n",
    "                             day = customerData.became_member_on.dt.day,\n",
    "                             month_name = customerData.became_member_on.dt.month_name(),\n",
    "                             day_of_week = customerData.became_member_on.dt.weekday,\n",
    "                             day_name = customerData.became_member_on.dt.day_name())"
   ]
  },
  {
   "cell_type": "markdown",
   "id": "280a3e16",
   "metadata": {},
   "source": [
    "#### No. of offers received , viewed , completed and no. of transactions"
   ]
  },
  {
   "cell_type": "code",
   "execution_count": null,
   "id": "edae8c0a",
   "metadata": {},
   "outputs": [],
   "source": [
    "tempd = offerTData.copy().groupby(['person','event']).count()\n",
    "tempd.reset_index(inplace=True,drop=False)"
   ]
  },
  {
   "cell_type": "code",
   "execution_count": null,
   "id": "604a6af4",
   "metadata": {},
   "outputs": [],
   "source": [
    "# no. of rec,vie,com\n",
    "\n",
    "customerData['offR'] = 0\n",
    "customerData['offV'] = 0\n",
    "customerData['offC'] = 0\n",
    "customerData['transactions'] = 0\n",
    "\n",
    "for i,c in tempd.iterrows():\n",
    "    t = customerData.index[customerData['id'] == c['person']].tolist()\n",
    "    t1 = t[0]\n",
    "    if(c['event']=='offer completed'):\n",
    "        customerData.loc[t1,'offC'] = c['time']\n",
    "    elif(c['event']=='offer received'):\n",
    "        customerData.loc[t1,'offR'] = c['time']\n",
    "    elif(c['event']=='offer viewed'):\n",
    "        customerData.loc[t1,'offV'] = c['time']\n",
    "    elif(c['event']=='transaction'):\n",
    "        customerData.loc[t1,'transactions'] = c['time']"
   ]
  },
  {
   "cell_type": "markdown",
   "id": "087d2352",
   "metadata": {},
   "source": [
    "#### Viewing Patterns correlates to interest"
   ]
  },
  {
   "cell_type": "code",
   "execution_count": null,
   "id": "a1f23c7d",
   "metadata": {},
   "outputs": [],
   "source": [
    "x = customerData[['of0c','of1c','of2c','of3c','of4c','of5c','of6c','of7c','of8c','of9c','orderOfView','offV','offC']]"
   ]
  },
  {
   "cell_type": "code",
   "execution_count": null,
   "id": "fc3364c1",
   "metadata": {},
   "outputs": [],
   "source": [
    "x = pd.get_dummies(x, columns = ['orderOfView'])"
   ]
  },
  {
   "cell_type": "code",
   "execution_count": null,
   "id": "8ead71b8",
   "metadata": {},
   "outputs": [],
   "source": [
    "from sklearn.metrics import silhouette_score"
   ]
  },
  {
   "cell_type": "code",
   "execution_count": null,
   "id": "c4829b2a",
   "metadata": {},
   "outputs": [],
   "source": [
    "#matrix = x.to_numpy()\n",
    "#for n_clusters in range(3,8):\n",
    "#    kmeans = KMeans(init='k-means++', n_clusters = n_clusters, n_init=30)\n",
    "#    kmeans.fit(matrix)\n",
    "#    clusters = kmeans.predict(matrix)\n",
    "#    silhouette_avg = silhouette_score(matrix, clusters)\n",
    "#    print(\"For n_clusters =\", n_clusters, \"The average silhouette_score is :\", silhouette_avg)"
   ]
  },
  {
   "cell_type": "code",
   "execution_count": null,
   "id": "c0898979",
   "metadata": {},
   "outputs": [],
   "source": [
    "matrix = x.to_numpy()\n",
    "n_clusters = 4\n",
    "silhouette_avg = -1\n",
    "while silhouette_avg < 0.167:\n",
    "    kmeans = KMeans(init='k-means++', n_clusters = n_clusters, n_init=30)\n",
    "    kmeans.fit(matrix)\n",
    "    clusters = kmeans.predict(matrix)\n",
    "    silhouette_avg = silhouette_score(matrix, clusters)\n",
    "    print(\"For n_clusters =\", n_clusters, \"The average silhouette_score is :\", silhouette_avg)"
   ]
  },
  {
   "cell_type": "code",
   "execution_count": null,
   "id": "f3fd109c",
   "metadata": {},
   "outputs": [],
   "source": [
    "customerData['interest'] = pd.Series(clusters)"
   ]
  },
  {
   "cell_type": "code",
   "execution_count": null,
   "id": "86cfb81a",
   "metadata": {
    "scrolled": true
   },
   "outputs": [],
   "source": [
    "pd.Series(clusters).value_counts()"
   ]
  },
  {
   "cell_type": "markdown",
   "id": "a9cf665f",
   "metadata": {},
   "source": [
    "####  Total money spent by each user"
   ]
  },
  {
   "cell_type": "code",
   "execution_count": null,
   "id": "e2e2e3f0",
   "metadata": {},
   "outputs": [],
   "source": [
    "# Total money spent on each user\n",
    "tempd = offerTData.copy()[['person','amount']].groupby('person').sum().sort_values(by=['person'])\n",
    "tempd.reset_index(inplace=True,drop=False)\n",
    "\n",
    "customerData['moneySpent'] = None\n",
    "\n",
    "for i,c in tempd.iterrows():\n",
    "    t = customerData.index[customerData['id'] == c['person']].tolist()\n",
    "    t1 = t[0]\n",
    "    customerData.loc[t1,'moneySpent'] = c['amount']"
   ]
  },
  {
   "cell_type": "markdown",
   "id": "130ee9c0",
   "metadata": {},
   "source": [
    "#### Final Dataset info"
   ]
  },
  {
   "cell_type": "code",
   "execution_count": null,
   "id": "abf0df9d",
   "metadata": {},
   "outputs": [],
   "source": [
    "customerData = customerData[['id','gender','age','income','became_member_on','moneySpent','interest','MAQ','transactions','offV','offC','year','month','day','month_name','day_name','day_of_week']]"
   ]
  },
  {
   "cell_type": "code",
   "execution_count": null,
   "id": "43fdcc9e",
   "metadata": {},
   "outputs": [],
   "source": [
    "customerData.reset_index(drop=True,inplace=True)\n",
    "customerData.info()"
   ]
  },
  {
   "cell_type": "markdown",
   "id": "0758f3ce",
   "metadata": {},
   "source": [
    "# EDA"
   ]
  },
  {
   "cell_type": "markdown",
   "id": "4b9fd9aa",
   "metadata": {},
   "source": [
    "## Customer Data"
   ]
  },
  {
   "cell_type": "code",
   "execution_count": null,
   "id": "74cb38fe",
   "metadata": {},
   "outputs": [],
   "source": [
    "customerData.value_counts('gender')"
   ]
  },
  {
   "cell_type": "markdown",
   "id": "39e1faa2",
   "metadata": {},
   "source": [
    "### Gender"
   ]
  },
  {
   "cell_type": "code",
   "execution_count": null,
   "id": "aaf6d637",
   "metadata": {},
   "outputs": [],
   "source": [
    "import seaborn\n",
    "\n",
    "plt.figure(figsize=(15,6))\n",
    "data =  customerData['gender'].value_counts()\n",
    "sns.set(rc={\"axes.facecolor\":\"#283747\", \"axes.grid\":False,'xtick.labelsize':14,'ytick.labelsize':14})\n",
    "plt.pie(data, labels=['Male', 'Female', 'Other'], colors=seaborn.color_palette('dark'),explode=[0,0,0.2], autopct='%.0f%%')\n",
    "plt.title(\"Gender Proportion\")\n",
    "plt.show()"
   ]
  },
  {
   "cell_type": "markdown",
   "id": "555e1f3c",
   "metadata": {},
   "source": [
    "### Income"
   ]
  },
  {
   "cell_type": "code",
   "execution_count": null,
   "id": "227114fe",
   "metadata": {},
   "outputs": [],
   "source": [
    "plt.figure(figsize=(15,6))\n",
    "\n",
    "#sns.set(rc={\"axes.facecolor\":\"#283747\", \"axes.grid\":False,'xtick.labelsize':14,'ytick.labelsize':14})\n",
    "sns.set_style('white')\n",
    "\n",
    "sns.kdeplot(customerData[customerData['gender']=='F']['income'],shade=True,color = 'orange',label=\"Female\")\n",
    "sns.kdeplot(customerData[customerData['gender']=='M']['income'],shade=True,color = 'r',label=\"Male\")\n",
    "sns.kdeplot(customerData[customerData['gender']=='O']['income'],shade=True,color = 'g',label=\"Other\")\n",
    "plt.legend(labels=[\"Female\",\"Male\",\"Others\"])\n",
    "seaborn =  plt.legend().get_frame()\n",
    "seaborn.set_facecolor ('white')\n",
    "plt.show()"
   ]
  },
  {
   "cell_type": "code",
   "execution_count": null,
   "id": "2243af60",
   "metadata": {},
   "outputs": [],
   "source": [
    "plt.figure(figsize=(15,6))\n",
    "sns.histplot(customerData['income'], bins=[customerData['income'].min(), 45000, 60000, 75000, 90000, 105000, customerData['income'].max()] ,kde=False,stat = \"probability\")\n",
    "plt.show()"
   ]
  },
  {
   "cell_type": "markdown",
   "id": "011ab8b6",
   "metadata": {},
   "source": [
    "### Age"
   ]
  },
  {
   "cell_type": "code",
   "execution_count": null,
   "id": "909a633f",
   "metadata": {},
   "outputs": [],
   "source": [
    "plt.figure(figsize=(15,6))\n",
    "sns.kdeplot(customerData[customerData['gender']=='F']['age'],shade=True,color = 'orange',label=\"Female\")\n",
    "sns.kdeplot(customerData[customerData['gender']=='M']['age'],shade=True,color = 'r',label=\"Male\")\n",
    "sns.kdeplot(customerData[customerData['gender']=='O']['age'],shade=True,color = 'g',label=\"Other\")\n",
    "plt.legend(labels=[\"Female\",\"Male\",\"Others\"])\n",
    "seaborn =  plt.legend().get_frame()\n",
    "seaborn.set_facecolor ('white')\n",
    "plt.show()"
   ]
  },
  {
   "cell_type": "code",
   "execution_count": null,
   "id": "b205b59e",
   "metadata": {},
   "outputs": [],
   "source": [
    "# Create a new column `age_group`\n",
    "age_group = pd.cut(customerData['age'],\n",
    "      bins = [customerData['age'].min(), 25, 40, 60, customerData['age'].max()],\n",
    "      labels = ['Youth (18-25)', 'Young Adults (25-40)', 'Adults (40-60)', 'Seniors (>60)'])\n",
    "customerData['age_group'] = age_group\n",
    "\n",
    "plt.figure(figsize=(15,6))\n",
    "ax = sns.histplot(data = customerData,x = 'age_group',stat = \"probability\")\n",
    "ax.set(xlabel='Age Group')\n",
    "plt.show()"
   ]
  },
  {
   "cell_type": "code",
   "execution_count": null,
   "id": "ab3030d3",
   "metadata": {},
   "outputs": [],
   "source": [
    "plt.figure(figsize=(15,6))\n",
    "tempd = customerData.copy().sort_values(by=['gender'])\n",
    "ax = sns.histplot(data=tempd, x=\"age_group\", hue=\"gender\", multiple=\"dodge\", shrink=.8,stat = \"probability\")\n",
    "ax.set(xlabel='Age Group')\n",
    "plt.show()"
   ]
  },
  {
   "cell_type": "code",
   "execution_count": null,
   "id": "9d2eaba9",
   "metadata": {},
   "outputs": [],
   "source": [
    "plt.figure(figsize=(15,6))\n",
    "sns.jointplot(data=customerData[customerData['gender']!='O'], x=\"income\", y=\"age\", hue=\"gender\", kind=\"kde\")\n",
    "sns.jointplot(data=customerData[customerData['gender']=='O'], x=\"income\", y=\"age\", hue=\"gender\", kind=\"kde\")"
   ]
  },
  {
   "cell_type": "markdown",
   "id": "0618ce38",
   "metadata": {},
   "source": [
    "### Membership Trends"
   ]
  },
  {
   "cell_type": "code",
   "execution_count": null,
   "id": "1094a4fe",
   "metadata": {},
   "outputs": [],
   "source": [
    "p = customerData.value_counts('became_member_on').sort_index()\n",
    "memberAdded = pd.DataFrame(index = p.index.values, data = p.values, columns = ['Number of New Members'])"
   ]
  },
  {
   "cell_type": "code",
   "execution_count": null,
   "id": "12a85a71",
   "metadata": {},
   "outputs": [],
   "source": [
    "plt.figure(figsize = (15,6))\n",
    "ax = sns.lineplot(x = memberAdded.index.values, y = memberAdded['Number of New Members'],color='r')\n",
    "date_format = mdates.DateFormatter('%Y-%b')\n",
    "ax.xaxis.set_major_formatter(date_format)\n",
    "ax.xaxis.set_major_locator(mdates.MonthLocator(interval = 4))\n",
    "\n",
    "plt.xticks(text = ax.xaxis.get_label(), fontsize = 14, rotation = 30)\n",
    "plt.yticks(text = ax.yaxis.get_label(), fontsize = 14)\n",
    "plt.ylabel('Number of New Members', fontsize = 16)\n",
    "plt.title('Daily Member Growth', fontsize = 20)\n",
    "plt.tight_layout()\n",
    "plt.show()"
   ]
  },
  {
   "cell_type": "code",
   "execution_count": null,
   "id": "49ddb6f2",
   "metadata": {},
   "outputs": [],
   "source": [
    "plt.figure(figsize = (10,5))\n",
    "sns.countplot(data = customerData.sort_values('month'), y = 'month_name')\n",
    "plt.title('Number of New Members by Month', fontsize = 16)\n",
    "plt.xticks(fontsize = 12); plt.yticks(fontsize = 12)\n",
    "plt.xlabel('Count', fontsize = 14); plt.ylabel('Month', fontsize = 14)\n",
    "plt.show()"
   ]
  },
  {
   "cell_type": "code",
   "execution_count": null,
   "id": "15900111",
   "metadata": {},
   "outputs": [],
   "source": [
    "plt.figure(figsize = (10,5))\n",
    "sns.countplot(data = customerData.sort_values('day_of_week'), y = 'day_name')\n",
    "plt.title('Number of New Members by Weekday', fontsize = 16)\n",
    "plt.xticks(fontsize = 12); plt.yticks(fontsize = 12)\n",
    "plt.xlabel('Count', fontsize = 14); plt.ylabel('Weekday', fontsize = 14)\n",
    "plt.show()"
   ]
  },
  {
   "cell_type": "code",
   "execution_count": null,
   "id": "96f7d5cd",
   "metadata": {},
   "outputs": [],
   "source": [
    "#22200115538"
   ]
  },
  {
   "cell_type": "markdown",
   "id": "2a8993a1",
   "metadata": {},
   "source": [
    "#### MAQ"
   ]
  },
  {
   "cell_type": "code",
   "execution_count": null,
   "id": "76503fdd",
   "metadata": {},
   "outputs": [],
   "source": [
    "tempd = customerData.copy().sort_values(by=['MAQ'])\n",
    "plt.figure(figsize = (15,6))\n",
    "ax = sns.histplot(data=tempd, x=\"MAQ\", shrink=.8)\n",
    "\n",
    "ax.set_xticks(range(4), labels=['12 AM - 6 AM','6 AM - 12 PM','12 PM - 6 PM','6 PM - 12 PM'])\n",
    "plt.show()"
   ]
  },
  {
   "cell_type": "markdown",
   "id": "aaf2c032",
   "metadata": {},
   "source": [
    "## Offer Transcripts Data"
   ]
  },
  {
   "cell_type": "code",
   "execution_count": null,
   "id": "0e1cb678",
   "metadata": {},
   "outputs": [],
   "source": [
    "offerTData.info()"
   ]
  },
  {
   "cell_type": "code",
   "execution_count": null,
   "id": "b431771f",
   "metadata": {},
   "outputs": [],
   "source": [
    "tempd = offerTData.copy()[['event','time']].groupby('event').sum().sort_values(by='time',ascending=False)\n",
    "tempd.reset_index(inplace=True,drop=False)\n",
    "\n",
    "tempd"
   ]
  },
  {
   "cell_type": "code",
   "execution_count": null,
   "id": "68d82876",
   "metadata": {},
   "outputs": [],
   "source": [
    "# event value count cat histplot graph\n",
    "plt.figure(figsize = (15,6))\n",
    "sns.barplot(data=tempd, x=\"event\", y=\"time\")"
   ]
  },
  {
   "cell_type": "code",
   "execution_count": null,
   "id": "b0f53f0b",
   "metadata": {},
   "outputs": [],
   "source": [
    "# offers varying with time line plot"
   ]
  },
  {
   "cell_type": "code",
   "execution_count": null,
   "id": "155429bb",
   "metadata": {},
   "outputs": [],
   "source": [
    "# Find how many events of each type occurred on each day from Day 0 to Day 29\n",
    "received_daily = offerTData[offerTData['event'] == 'offer received'].value_counts('daysSinceStart').sort_index()\n",
    "viewed_daily = offerTData[offerTData['event'] == 'offer viewed'].value_counts('daysSinceStart').sort_index()\n",
    "completed_daily = offerTData[offerTData['event'] == 'offer completed'].value_counts('daysSinceStart').sort_index()\n",
    "transaction_daily = offerTData[offerTData['event'] == 'transaction'].value_counts('daysSinceStart').sort_index()\n",
    "\n",
    "# Visualize\n",
    "fig, axs = plt.subplots(1,1, figsize = (14, 5))\n",
    "\n",
    "days = np.arange(30)\n",
    "# axs[1].stem(received_daily.index.values, received_daily, linefmt = ':k')\n",
    "axs.plot(days, viewed_daily, lw = 3)\n",
    "axs.plot(days, completed_daily, lw = 3)\n",
    "axs.plot(days, transaction_daily, lw = 3)\n",
    "axs.legend(['Offer Viewed', 'Offer Completed', 'Transactions'], loc = 'upper right', ncol = 1, fontsize = 10)\n",
    "axs.set_ylim([0, 7400])\n",
    "axs.set_xlabel('Days', fontsize = 16)\n",
    "axs.set_ylabel('Events Count', fontsize = 16)\n",
    "axs.set_title('Events Occurrence Daily', fontsize = 18)\n",
    "\n",
    "plt.show()\n"
   ]
  },
  {
   "cell_type": "markdown",
   "id": "5c68ade4",
   "metadata": {},
   "source": [
    "# View Rate , Completion Rate and Received Rate"
   ]
  },
  {
   "cell_type": "code",
   "execution_count": null,
   "id": "0cbd2adc",
   "metadata": {},
   "outputs": [],
   "source": [
    "offerData.reset_index(inplace=True,drop=False)\n",
    "offerData = offerData.astype({'index': str})"
   ]
  },
  {
   "cell_type": "code",
   "execution_count": null,
   "id": "9dbd5ff9",
   "metadata": {},
   "outputs": [],
   "source": [
    "offerData"
   ]
  },
  {
   "cell_type": "code",
   "execution_count": null,
   "id": "d483a68b",
   "metadata": {},
   "outputs": [],
   "source": [
    "# Create a df that only contains events about offers\n",
    "df_event = offerTData[~(offerTData['event'] == 'transaction')]\n",
    "\n",
    "event_offer = pd.merge(df_event, offerData, left_on = 'offer id', right_on = 'id').drop('id', axis = 1)\n",
    "\n",
    "event_offer.sample(3)"
   ]
  },
  {
   "cell_type": "code",
   "execution_count": null,
   "id": "58bff135",
   "metadata": {},
   "outputs": [],
   "source": [
    "event_offer.value_counts('event')"
   ]
  },
  {
   "cell_type": "code",
   "execution_count": null,
   "id": "68cce1b4",
   "metadata": {},
   "outputs": [],
   "source": [
    "offerEventCounts = event_offer.value_counts('event').values"
   ]
  },
  {
   "cell_type": "code",
   "execution_count": null,
   "id": "10988017",
   "metadata": {},
   "outputs": [],
   "source": [
    "# Find out the number of time being received for each offer \n",
    "offer_received = event_offer[event_offer['event'] == 'offer received']\n",
    "p0 = offer_received.value_counts('index').sort_values(ascending = False)\n",
    "\n",
    "# Find out the number of time being completed for each offer \n",
    "offer_completed = event_offer[event_offer['event'] == 'offer completed']\n",
    "p2 = offer_completed.value_counts('index').sort_values(ascending = False)\n",
    "\n",
    "# Overall completion rate of each offer\n",
    "overall_complete_rate = (p2.sort_index() / p0.sort_index()).sort_values(ascending = False)\n",
    "overall_complete_rate.sort_values(ascending = False)\n",
    "# Visualize\n",
    "ax = plt.bar(x = overall_complete_rate.index, height = overall_complete_rate.values)\n",
    "\n",
    "plt.title('Overall Complete Rate %', fontsize = 18)\n",
    "plt.xlabel('Offers Alias', fontsize = 15)\n",
    "plt.ylabel('Percentage', fontsize = 15)\n",
    "plt.yticks(np.arange(0,1.2, 0.2), labels = ['0%', '20%', '40%', '60%', '80%', '100%'])\n",
    "\n",
    "plt.show()"
   ]
  },
  {
   "cell_type": "code",
   "execution_count": null,
   "id": "8ce4a162",
   "metadata": {},
   "outputs": [],
   "source": [
    "offer_viewed = event_offer[event_offer['event'] == 'offer viewed']\n",
    "p1 = offer_viewed.value_counts('index').sort_values(ascending = False)\n",
    "p1_rate = (p1.sort_index() / p0.sort_index()).sort_values(ascending = False)\n",
    "plt.bar(x = np.arange(len(p1)), height = p1_rate.values, tick_label = p1_rate.index.values,\n",
    "       color = ['purple', 'purple','purple', 'purple', 'm', 'm','r', 'r', 'r', 'pink'])\n",
    "plt.title('View Rate %', fontsize = 18)\n",
    "plt.xlabel('Offer', fontsize = 15)\n",
    "plt.ylabel('Percentage', fontsize = 15)\n",
    "plt.yticks(np.arange(0,1.2, 0.2), labels = ['0%', '20%', '40%', '60%', '80%', '100%'])\n",
    "plt.show()"
   ]
  },
  {
   "cell_type": "code",
   "execution_count": null,
   "id": "bad1939e",
   "metadata": {},
   "outputs": [],
   "source": [
    "offers_added = offerData.assign(view_rate = p1_rate.sort_index().values,\n",
    "                            complete_rate = overall_complete_rate.sort_index().values)\n",
    "\n",
    "# Set `offer_alias` as index\n",
    "offers_added.set_index('index', inplace = True)\n",
    "\n",
    "# From the new df, extract `view_rate`, 'complete_rate' and other numeric columns\n",
    "offers_numeric = offers_added.select_dtypes(include = 'number')\n",
    "offers_numeric.head()"
   ]
  },
  {
   "cell_type": "code",
   "execution_count": null,
   "id": "a8557a0d",
   "metadata": {},
   "outputs": [],
   "source": [
    "fig, axs = plt.subplots(1,2, figsize = (18, 6))\n",
    "sns.heatmap(offers_numeric.iloc[:, :-1].corr(), cmap = 'rainbow', \n",
    "            annot = True, vmin = -1, vmax = 1, ax = axs[0])\n",
    "axs[0].set_title('Correlation - View Rate %', fontsize = 16)\n",
    "\n",
    "sns.heatmap(offers_numeric.iloc[:, [0,1,2,4]].corr(), cmap = 'rainbow', \n",
    "            annot = True, vmin = -1, vmax = 1, ax = axs[1])\n",
    "axs[1].set_title('Correlation - Complete Rate %', fontsize = 16)\n",
    "plt.show()"
   ]
  },
  {
   "cell_type": "markdown",
   "id": "dae537f4",
   "metadata": {},
   "source": [
    "# Customer Segmentation"
   ]
  },
  {
   "cell_type": "code",
   "execution_count": null,
   "id": "92968125",
   "metadata": {},
   "outputs": [],
   "source": [
    "customerData.info()"
   ]
  },
  {
   "cell_type": "code",
   "execution_count": null,
   "id": "f4de24c2",
   "metadata": {},
   "outputs": [],
   "source": [
    "custData = customerData[['moneySpent','offV','offC','transactions','interest']]"
   ]
  },
  {
   "cell_type": "code",
   "execution_count": null,
   "id": "a45c0d86",
   "metadata": {},
   "outputs": [],
   "source": [
    "custData.head()"
   ]
  },
  {
   "cell_type": "code",
   "execution_count": null,
   "id": "ec5efdd8",
   "metadata": {},
   "outputs": [],
   "source": [
    "custData.value_counts('moneySpent')"
   ]
  },
  {
   "cell_type": "code",
   "execution_count": null,
   "id": "dc467baa",
   "metadata": {},
   "outputs": [],
   "source": [
    "#sns.boxplot(x = custData['moneySpent'])"
   ]
  },
  {
   "cell_type": "code",
   "execution_count": null,
   "id": "9a80eaf5",
   "metadata": {},
   "outputs": [],
   "source": [
    "q = custData['moneySpent'].quantile(0.98)\n",
    "rows_top_money_spent = custData[custData['moneySpent'] >= q]\n",
    "\n",
    "person_top_money_spent = rows_top_money_spent.index.values\n",
    "custData = custData[custData['moneySpent'] < q]\n",
    "\n",
    "print('Number of rows removed:', rows_top_money_spent.shape[0])"
   ]
  },
  {
   "cell_type": "code",
   "execution_count": null,
   "id": "206b08c4",
   "metadata": {},
   "outputs": [],
   "source": [
    "#custData.interest = custData.interest.astype('str')"
   ]
  },
  {
   "cell_type": "code",
   "execution_count": null,
   "id": "2cbfe89b",
   "metadata": {},
   "outputs": [],
   "source": [
    "scaler_customer_behavior = StandardScaler()\n",
    "scaler_customer_behavior.fit(custData)\n",
    "customer_behavior_scaled = scaler_customer_behavior.transform(custData)\n",
    "pd.DataFrame(data = customer_behavior_scaled, columns = custData.columns.values).head(3)"
   ]
  },
  {
   "cell_type": "code",
   "execution_count": null,
   "id": "de3c5294",
   "metadata": {},
   "outputs": [],
   "source": [
    "k = 5\n",
    "df_feature = customer_behavior_scaled\n",
    "kmeans = KMeans(n_clusters = k, random_state = 10)\n",
    "kmeans.fit_transform(df_feature)\n",
    "customer_with_cluster = custData.assign(cluster = kmeans.labels_)\n",
    "print(customer_with_cluster.value_counts('cluster').sort_index())\n",
    "\n",
    "line_sep = '*' * 60\n",
    "print('\\n', line_sep)\n",
    "print('Silhouette Score:', metrics.silhouette_score(df_feature, labels = kmeans.labels_))\n",
    "\n",
    "#\n",
    "cluster_info = customer_with_cluster.groupby('cluster').agg([np.mean])\n",
    "print('\\n', line_sep)\n",
    "print(cluster_info.round(1))\n",
    "\n",
    "# Plot\n",
    "color_list = ['red', 'blue', 'orange', 'green', 'yellow']\n",
    "legend_list = ['Cluster 0', 'Cluster 1', 'Cluster 2', 'Cluster 3', 'cluster 4']\n",
    "for i in range(k):\n",
    "    plt.scatter(customer_with_cluster.loc[customer_with_cluster['cluster'] == i , 'offV'],\n",
    "               customer_with_cluster.loc[customer_with_cluster['cluster'] == i , 'moneySpent'],\n",
    "               c = color_list[i], label = legend_list[i], alpha = 0.5)\n",
    "plt.ylabel('Offers Viewed', fontsize = 15)\n",
    "plt.xlabel('Money Spent', fontsize = 15)\n",
    "plt.legend(legend_list)\n",
    "plt.show()\n"
   ]
  },
  {
   "cell_type": "code",
   "execution_count": null,
   "id": "cae858d5",
   "metadata": {},
   "outputs": [],
   "source": [
    "fig, axs = plt.subplots(1, 5, figsize = (18,5))\n",
    "for i in range(5):\n",
    "    sns.scatterplot(data = customer_with_cluster[customer_with_cluster['cluster'] == i],\n",
    "                   x = 'offV', y = 'moneySpent', alpha = 0.1, color = color_list[i], ax = axs[i])\n",
    "    mean_value = custData[customer_with_cluster['cluster'] == i].agg({'moneySpent': 'mean'})\n",
    "    axs[i].plot(np.arange(1, 7), (np.ones((1, 6))*mean_value.values).reshape((6,-1)), \n",
    "                color = color_list[i], lw =3, linestyle = 'dashed')\n",
    "    axs[i].set_title('cluster' + str(i), fontsize = 16)\n",
    "    axs[i].set_xlim((-0.5,6.5))\n",
    "    axs[i].set_ylim((-0.5,500))\n",
    "\n",
    "fig.suptitle('Money Spent vs Offers Viewed', fontsize = 20, fontweight = 'bold')\n",
    "plt.tight_layout()\n",
    "plt.show()"
   ]
  },
  {
   "cell_type": "code",
   "execution_count": null,
   "id": "44c0014a",
   "metadata": {},
   "outputs": [],
   "source": [
    "fig, axs = plt.subplots(1, 5, figsize = (18,5))\n",
    "for i in range(5):\n",
    "    sns.scatterplot(data = customer_with_cluster[customer_with_cluster['cluster'] == i],\n",
    "                   x = 'offV', y = 'offC', alpha = 0.02, color = color_list[i], ax = axs[i])\n",
    "    mean_value = customer_with_cluster[customer_with_cluster['cluster'] == i].agg({'offC': 'mean'})\n",
    "    axs[i].plot(np.arange(1, 7), (np.ones((1, 6))*mean_value.values).reshape((6,-1)), \n",
    "                color = color_list[i], lw =3, linestyle = 'dashed')\n",
    "    axs[i].set_title('cluster' + str(i), fontsize = 16)\n",
    "    axs[i].set_xlim((-0.5,6.5))\n",
    "    axs[i].set_ylim((-0.5,6.5))\n",
    "\n",
    "fig.suptitle('OffC vs Offers Viewed', fontsize = 20, fontweight = 'bold')\n",
    "plt.tight_layout()\n",
    "plt.show()"
   ]
  },
  {
   "cell_type": "code",
   "execution_count": null,
   "id": "9bc794ab",
   "metadata": {},
   "outputs": [],
   "source": [
    "fig, axs = plt.subplots(1, 5, figsize = (18,5))\n",
    "for i in range(5):\n",
    "    sns.scatterplot(data = customer_with_cluster[customer_with_cluster['cluster'] == i],\n",
    "                   x = 'offV', y = 'transactions', alpha = 0.1, color = color_list[i], ax = axs[i])\n",
    "    mean_value = customer_with_cluster[customer_with_cluster['cluster'] == i].agg({'transactions': 'mean'})\n",
    "    axs[i].plot(np.arange(1, 7), (np.ones((1, 6))*mean_value.values).reshape((6,-1)), \n",
    "                color = color_list[i], lw =3, linestyle = 'dashed')\n",
    "    axs[i].set_title('cluster' + str(i), fontsize = 16)\n",
    "    axs[i].set_xlim((-0.5,6.5))\n",
    "    axs[i].set_ylim((-0.5,35))\n",
    "\n",
    "fig.suptitle('Transactions vs Offers Viewed', fontsize = 20, fontweight = 'bold')\n",
    "plt.tight_layout()\n",
    "plt.show()"
   ]
  },
  {
   "cell_type": "code",
   "execution_count": null,
   "id": "cb3edb48",
   "metadata": {},
   "outputs": [],
   "source": [
    "fig, axs = plt.subplots(1, 5, figsize = (18,5))\n",
    "for i in range(5):\n",
    "    sns.scatterplot(data = customer_with_cluster[customer_with_cluster['cluster'] == i],\n",
    "                   x = 'interest', y = 'offC', alpha = 1, color = color_list[i], ax = axs[i])\n",
    "    mean_value = customer_with_cluster[customer_with_cluster['cluster'] == i].agg({'offV': 'mean'})\n",
    "    axs[i].plot(np.arange(1, 7), (np.ones((1, 6))*mean_value.values).reshape((6,-1)), \n",
    "                color = color_list[i], lw =3, linestyle = 'dashed')\n",
    "    axs[i].set_title('cluster' + str(i), fontsize = 16)\n",
    "\n",
    "fig.suptitle('Transactions vs Offers Viewed', fontsize = 20, fontweight = 'bold')\n",
    "plt.tight_layout()\n",
    "plt.show()"
   ]
  },
  {
   "cell_type": "markdown",
   "id": "2f87ba47",
   "metadata": {},
   "source": [
    "# Cluster Analysis\n",
    "+ Cluster 0 : Low Engagers\n",
    "+ Cluster 1 : Offer Sensitive\n",
    "+ Cluster 2 : Most Valuable Customer\n",
    "+ Cluster 3 : Loyal Customers\n",
    "+ Cluster 4 : Offer Viewers"
   ]
  },
  {
   "cell_type": "code",
   "execution_count": null,
   "id": "5e3eb267",
   "metadata": {},
   "outputs": [],
   "source": [
    "X = customer_behavior_scaled\n",
    "Y = customer_with_cluster['cluster']\n",
    "x_train, x_test, y_train, y_test = train_test_split(X, Y, test_size = 0.2, random_state = 10)"
   ]
  },
  {
   "cell_type": "code",
   "execution_count": null,
   "id": "c729d516",
   "metadata": {},
   "outputs": [],
   "source": [
    "# K-Nearest Neighbors Classificaiton\n",
    "knn = KNeighborsClassifier(n_neighbors = 4)\n",
    "knn.fit(x_train, y_train)\n",
    "\n",
    "# Check test accuracy\n",
    "y_predict = knn.predict(x_test)\n",
    "print(\"Test accuracy:\", metrics.accuracy_score(y_test, y_predict))"
   ]
  },
  {
   "cell_type": "code",
   "execution_count": null,
   "id": "9b9b1fdf",
   "metadata": {},
   "outputs": [],
   "source": [
    "# Scale features\n",
    "rows_top_money_spent_scaled = scaler_customer_behavior.transform(rows_top_money_spent)\n",
    "\n",
    "# Have a direct look at the clustering result\n",
    "knn.predict(rows_top_money_spent_scaled)"
   ]
  },
  {
   "cell_type": "code",
   "execution_count": null,
   "id": "fc3269a9",
   "metadata": {},
   "outputs": [],
   "source": [
    "customerData['cluster'] = customer_with_cluster['cluster']"
   ]
  },
  {
   "cell_type": "code",
   "execution_count": null,
   "id": "257a7b0e",
   "metadata": {},
   "outputs": [],
   "source": [
    "sns.jointplot(data=customerData[customerData['cluster']==1], x=\"income\",y='age', kind=\"kde\")"
   ]
  },
  {
   "cell_type": "code",
   "execution_count": null,
   "id": "f588425c",
   "metadata": {},
   "outputs": [],
   "source": [
    "# merge \n",
    "# Reset index for `customer_behavior_clustered`\n",
    "customer_behavior_clustered.reset_index(inplace = True)\n",
    "# Merge\n",
    "customer_behavior_profile = pd.merge(customer_behavior_clustered, customers,\n",
    "                                    left_on = 'person', right_on = 'id').drop(['id'], axis = 1)\n",
    "# Add column `cluster_alias`\n",
    "customer_behavior_profile['cluster_alias'] = customer_behavior_profile['cluster'].map({1: 'Low Engagers',\n",
    "                                                                                       3: 'Loyal Customers',\n",
    "                                                                                       4: 'Offer Sensitive',\n",
    "                                                                                       2: 'Most Valuable Customer',\n",
    "                                                                                       0: 'Offer Viewers'})\n",
    "customer_behavior_profile.head(3)"
   ]
  },
  {
   "cell_type": "code",
   "execution_count": null,
   "id": "f9bf1d3f",
   "metadata": {},
   "outputs": [],
   "source": [
    "plt.figure(figsize=(15,6))\n",
    "sns.jointplot(data=customer_behavior_profile[customer_behavior_profile8['cluster']==1], x=\"age\", y=\"income\", hue=\"gender\", kind=\"kde\")"
   ]
  }
 ],
 "metadata": {
  "kernelspec": {
   "display_name": "Python 3 (ipykernel)",
   "language": "python",
   "name": "python3"
  },
  "language_info": {
   "codemirror_mode": {
    "name": "ipython",
    "version": 3
   },
   "file_extension": ".py",
   "mimetype": "text/x-python",
   "name": "python",
   "nbconvert_exporter": "python",
   "pygments_lexer": "ipython3",
   "version": "3.9.12"
  }
 },
 "nbformat": 4,
 "nbformat_minor": 5
}
